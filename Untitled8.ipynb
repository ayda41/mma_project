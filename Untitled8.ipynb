{
 "cells": [
  {
   "cell_type": "code",
   "execution_count": null,
   "metadata": {},
   "outputs": [],
   "source": [
    "#How about we let total amount be a list.\n",
    "if method == 'split unequally':#then user must give input for amount owed by each person\n",
    "    if len(amount) != 1:\n",
    "        print(\"Please choose another method.\")\n",
    "    else:\n",
    "        balance = {}\n",
    "        split = amount\n",
    "        for i in range(len(people)):\n",
    "            balance.update({people[i]: split[i]})\n",
    "        project.update_balance(balance)\n",
    "if method == 'split by percentages':#user has to give percentages and full amount. Percentage will be in format a%. So should we add percentages in create_transaction with default value?\n",
    "    if len(percentage) != len(people):\n",
    "        print(\"Please check your input to match number of people and percentages\")\n",
    "    elif sum(percentage) != 100:\n",
    "        print(\"Incorrect math. Please make sure you've entered correct percentages for each person. Percentages need to add to 100\")\n",
    "    else:\n",
    "        balance = {}\n",
    "        split = []\n",
    "        amt_owed = amount[0]\n",
    "        for i in range(len(people)):\n",
    "            new_amt_owed = (percentage[i]/100)*amt_owed\n",
    "            split.append(new_amt_owed)\n",
    "            balance.update({people[i]: split[i]})\n",
    "            project.update_balance(balance)"
   ]
  }
 ],
 "metadata": {
  "kernelspec": {
   "display_name": "Python 3",
   "language": "python",
   "name": "python3"
  },
  "language_info": {
   "codemirror_mode": {
    "name": "ipython",
    "version": 3
   },
   "file_extension": ".py",
   "mimetype": "text/x-python",
   "name": "python",
   "nbconvert_exporter": "python",
   "pygments_lexer": "ipython3",
   "version": "3.7.0"
  }
 },
 "nbformat": 4,
 "nbformat_minor": 2
}
